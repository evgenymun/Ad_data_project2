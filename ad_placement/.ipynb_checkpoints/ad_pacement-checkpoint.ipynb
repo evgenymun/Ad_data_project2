{
 "cells": [
  {
   "cell_type": "code",
   "execution_count": 208,
   "metadata": {
    "collapsed": false
   },
   "outputs": [],
   "source": [
    "import pandas as pd\n",
    "import numpy as np\n",
    "import patsy\n",
    "from sklearn.metrics import accuracy_score\n",
    "from sklearn.metrics import precision_recall_fscore_support as score\n",
    "from sklearn.cross_validation import train_test_split\n",
    "from sklearn.linear_model import LogisticRegression\n",
    "from sklearn.feature_selection import SelectKBest\n",
    "from sklearn.feature_selection import chi2\n",
    "\n",
    "#ad_df.replace(' ?', 'Missing', inplace=True)\n",
    "#ad_df.head()\n",
    "#ad_df.info()\n",
    "#replace ? with numpy nan to enable fillna and mean functions\n",
    "#votes_df.replace(['y', 'n', '?'], [1, 0, np.nan], inplace=True)\n",
    "#votes_df.fillna(votes_df.mean(), inplace=True)\n",
    "#votes_df.head(5)\n",
    "\n",
    "def getCleanData(csvFileName):\n",
    "    '''Reads in csv in the local folder and returns clean data frame'''\n",
    "    ad_df = pd.read_csv(csvFileName)\n",
    "\n",
    "    #Convert int64 to object to use in dmatrix\n",
    "    ad_df['ADTIND'] = ad_df['ADTIND'].apply(str)\n",
    "    ad_df['ADTOCC'] = ad_df['ADTOCC'].apply(str)\n",
    "    ad_df['SEOTR'] = ad_df['SEOTR'].apply(str)\n",
    "    ad_df['VETYN'] = ad_df['VETYN'].apply(str)\n",
    "\n",
    "    #Create dummy vars\n",
    "    ad_df_patsy = patsy.dmatrix(\"ACLSWKR\\\n",
    "                                +ADTIND\\\n",
    "                                +ADTOCC\\\n",
    "                                +AHGA\\\n",
    "                                +AHSCOL\\\n",
    "                                +AMARITL\\\n",
    "                                +AMJIND\\\n",
    "                                +AMJOCC\\\n",
    "                                +ARACE\\\n",
    "                                +AREORGN\\\n",
    "                                +ASEX\\\n",
    "                                +AUNMEM\\\n",
    "                                +AUNTYPE\\\n",
    "                                +AWKSTAT\\\n",
    "                                +FILESTAT\\\n",
    "                                +GRINREG\\\n",
    "                                +GRINST\\\n",
    "                                +HHDFMX\\\n",
    "                                +HHDREL\\\n",
    "                                +MIGMTR1\\\n",
    "                                +MIGMTR3\\\n",
    "                                +MIGMTR4\\\n",
    "                                +MIGSAME\\\n",
    "                                +MIGSUN\\\n",
    "                                +PARENT\\\n",
    "                                +PRCITSHP\\\n",
    "                                +SEOTR\\\n",
    "                                +VETQVA\\\n",
    "                                +VETYN-1\", data=ad_df, return_type='dataframe')\n",
    "    \n",
    "    ad_df['CAPGAIN_bin'] = 0\n",
    "    ad_df.loc[ad_df['CAPGAIN'] <> 0, 'CAPGAIN_bin'] = 1\n",
    "    ad_df['CAPLOSS_bin'] = 0\n",
    "    ad_df.loc[ad_df['CAPLOSS'] <> 0, 'CAPLOSS_bin'] = 1\n",
    "    ad_df['DIVVAL_bin'] = 0\n",
    "    ad_df.loc[ad_df['DIVVAL'] <> 0, 'DIVVAL_bin'] = 1\n",
    "\n",
    "    ad_df['PEFNTVTY_bin'] = 0\n",
    "    ad_df.loc[ad_df['PEFNTVTY'] == ' United-States', 'PEFNTVTY_bin'] = 1\n",
    "    ad_df['PEMNTVTY_bin'] = 0\n",
    "    ad_df.loc[ad_df['PEMNTVTY'] == ' United-States', 'PEMNTVTY_bin'] = 1\n",
    "    ad_df['PENATVTY_bin'] = 0\n",
    "    ad_df.loc[ad_df['PENATVTY'] == ' United-States', 'PENATVTY_bin'] = 1\n",
    "    \n",
    "    ad_df = ad_df.drop(['CAPGAIN','CAPLOSS', 'DIVVAL', 'PEFNTVTY', 'PEMNTVTY', 'PENATVTY'], 1)\n",
    "    \n",
    "    #Get non categorical fields and replace target with 1 and 0\n",
    "    ad_df_for_model= ad_df[['AAGE','WKSWORK','YEAR','AHRSPAY',\\\n",
    "                            'NOEMP','CAPGAIN_bin','CAPLOSS_bin', 'DIVVAL_bin',\\\n",
    "                            'PEFNTVTY_bin','PEMNTVTY_bin','PENATVTY_bin','INCOME_IND']].replace(['-50000', ' 50000+.'], [0, 1])\n",
    "    \n",
    "    #Add dummy matrix\n",
    "    ad_df_for_model = pd.merge(ad_df_patsy,ad_df_for_model, right_index=True, left_index=True)\n",
    "    \n",
    "    print(ad_df_for_model.info())\n",
    "    \n",
    "    return ad_df_for_model"
   ]
  },
  {
   "cell_type": "code",
   "execution_count": 240,
   "metadata": {
    "collapsed": true
   },
   "outputs": [],
   "source": [
    "#Aggregating continues fields into categorical proved to decrease performance of the models\n",
    "#Thus we are going to remove bucketing\n",
    "def getCleanDataNoBuckets(csvFileName):\n",
    "    '''Reads in csv in the local folder and returns clean data frame'''\n",
    "    ad_df = pd.read_csv(csvFileName)\n",
    "\n",
    "    #Convert int64 to object to use in dmatrix\n",
    "    ad_df['ADTIND'] = ad_df['ADTIND'].apply(str)\n",
    "    ad_df['ADTOCC'] = ad_df['ADTOCC'].apply(str)\n",
    "    ad_df['SEOTR'] = ad_df['SEOTR'].apply(str)\n",
    "    ad_df['VETYN'] = ad_df['VETYN'].apply(str)\n",
    "\n",
    "    #Create dummy vars\n",
    "    ad_df_patsy = patsy.dmatrix(\"ACLSWKR\\\n",
    "                                +ADTIND\\\n",
    "                                +ADTOCC\\\n",
    "                                +AHGA\\\n",
    "                                +AHSCOL\\\n",
    "                                +AMARITL\\\n",
    "                                +AMJIND\\\n",
    "                                +AMJOCC\\\n",
    "                                +ARACE\\\n",
    "                                +AREORGN\\\n",
    "                                +ASEX\\\n",
    "                                +AUNMEM\\\n",
    "                                +AUNTYPE\\\n",
    "                                +AWKSTAT\\\n",
    "                                +FILESTAT\\\n",
    "                                +GRINREG\\\n",
    "                                +GRINST\\\n",
    "                                +HHDFMX\\\n",
    "                                +HHDREL\\\n",
    "                                +MIGMTR1\\\n",
    "                                +MIGMTR3\\\n",
    "                                +MIGMTR4\\\n",
    "                                +MIGSAME\\\n",
    "                                +MIGSUN\\\n",
    "                                +PARENT\\\n",
    "                                +PRCITSHP\\\n",
    "                                +PEFNTVTY\\\n",
    "                                +PEMNTVTY\\\n",
    "                                +PENATVTY\\\n",
    "                                +SEOTR\\\n",
    "                                +VETQVA\\\n",
    "                                +VETYN-1\", data=ad_df, return_type='dataframe')\n",
    "    '''\n",
    "    ad_df['CAPGAIN_bin'] = 0\n",
    "    ad_df.loc[ad_df['CAPGAIN'] <> 0, 'CAPGAIN_bin'] = 1\n",
    "    ad_df['CAPLOSS_bin'] = 0\n",
    "    ad_df.loc[ad_df['CAPLOSS'] <> 0, 'CAPLOSS_bin'] = 1\n",
    "    ad_df['DIVVAL_bin'] = 0\n",
    "    ad_df.loc[ad_df['DIVVAL'] <> 0, 'DIVVAL_bin'] = 1\n",
    "\n",
    "    ad_df['PEFNTVTY_bin'] = 0\n",
    "    ad_df.loc[ad_df['PEFNTVTY'] == ' United-States', 'PEFNTVTY_bin'] = 1\n",
    "    ad_df['PEMNTVTY_bin'] = 0\n",
    "    ad_df.loc[ad_df['PEMNTVTY'] == ' United-States', 'PEMNTVTY_bin'] = 1\n",
    "    ad_df['PENATVTY_bin'] = 0\n",
    "    ad_df.loc[ad_df['PENATVTY'] == ' United-States', 'PENATVTY_bin'] = 1\n",
    "    \n",
    "    ad_df = ad_df.drop(['CAPGAIN','CAPLOSS', 'DIVVAL', 'PEFNTVTY', 'PEMNTVTY', 'PENATVTY'], 1) '''\n",
    "    \n",
    "    #Get non categorical fields and replace target with 1 and 0\n",
    "    ad_df_for_model= ad_df[['AAGE','WKSWORK','YEAR','AHRSPAY',\\\n",
    "                            'NOEMP','CAPGAIN','CAPLOSS', 'DIVVAL',\\\n",
    "                            'INCOME_IND']].replace(['-50000', ' 50000+.'], [0, 1])\n",
    "    \n",
    "    #Add dummy matrix\n",
    "    ad_df_for_model = pd.merge(ad_df_patsy,ad_df_for_model, right_index=True, left_index=True)\n",
    "    \n",
    "    print(ad_df_for_model.info())\n",
    "    \n",
    "    return ad_df_for_model"
   ]
  },
  {
   "cell_type": "code",
   "execution_count": 241,
   "metadata": {
    "collapsed": false
   },
   "outputs": [
    {
     "name": "stdout",
     "output_type": "stream",
     "text": [
      "<class 'pandas.core.frame.DataFrame'>\n",
      "Int64Index: 199523 entries, 0 to 199522\n",
      "Columns: 479 entries, ACLSWKR[ Federal government] to INCOME_IND\n",
      "dtypes: float64(470), int64(9)\n",
      "memory usage: 730.7 MB\n",
      "None\n"
     ]
    }
   ],
   "source": [
    "#Read in data and check for linear correlation\n",
    "#trainingData = getCleanData('census-income.csv')\n",
    "trainingData = getCleanDataNoBuckets('census-income.csv')"
   ]
  },
  {
   "cell_type": "code",
   "execution_count": 242,
   "metadata": {
    "collapsed": false
   },
   "outputs": [],
   "source": [
    "#Check for correlation with our target\n",
    "feat_corr = trainingData.corr()['INCOME_IND']"
   ]
  },
  {
   "cell_type": "code",
   "execution_count": 211,
   "metadata": {
    "collapsed": false
   },
   "outputs": [],
   "source": [
    "#sorted( ((v,k) for k,v in feat_corr.iteritems()), reverse=True)"
   ]
  },
  {
   "cell_type": "code",
   "execution_count": 212,
   "metadata": {
    "collapsed": true
   },
   "outputs": [],
   "source": [
    "#Have to drop one column since it's missing in test data\n",
    "#The better way is to impute this column in test data\n",
    "#For now just do MVP\n",
    "trainingData = trainingData.drop(\"HHDFMX[T. Grandchild <18 ever marr not in subfamily]\", 1)"
   ]
  },
  {
   "cell_type": "code",
   "execution_count": 121,
   "metadata": {
    "collapsed": false
   },
   "outputs": [],
   "source": [
    "#ad_df.isnull().sum(axis=0)"
   ]
  },
  {
   "cell_type": "code",
   "execution_count": 213,
   "metadata": {
    "collapsed": false
   },
   "outputs": [],
   "source": [
    "#Split for training \n",
    "X = trainingData[trainingData.columns[:-1]]\n",
    "y = trainingData[trainingData.columns[-1]]\n",
    "X_train, X_test, y_train, y_test = train_test_split(X, y, test_size=0.2, random_state = 0)"
   ]
  },
  {
   "cell_type": "code",
   "execution_count": null,
   "metadata": {
    "collapsed": true
   },
   "outputs": [],
   "source": [
    "#X_KBest = SelectKBest(chi2, k=2).fit_transform(X, y)"
   ]
  },
  {
   "cell_type": "code",
   "execution_count": 214,
   "metadata": {
    "collapsed": false
   },
   "outputs": [],
   "source": [
    "#LogisticRegression scores\n",
    "def getModelPerformanceStat(y_test, y_pred, model_logReg, data_df):\n",
    "    logisticReg_acu = accuracy_score(y_test, y_pred)\n",
    "    precision_logReg, recall_logReg, fscore_logReg, support_logReg = score(y_test, y_pred)\n",
    "\n",
    "    print('\\nLogistic Regressioin Stats')\n",
    "    print('precision: {}'.format(precision_logReg))\n",
    "    print('recall: {}'.format(recall_logReg))\n",
    "    print('fscore: {}'.format(fscore_logReg))\n",
    "    print('support: {}'.format(support_logReg))\n",
    "    print('Accuracy:{}'.format(logisticReg_acu))\n",
    "    \n",
    "    #Coeficients\n",
    "    coef = {}\n",
    "    for i in range(len(data_df.columns)):\n",
    "        coef[data_df.columns.values[i]] = round(model_logReg.coef_[0][i],3)\n",
    "        #print data_df.columns.values[i], ' ', round(model_logReg.coef_[0][i],3)\n",
    "    \n",
    "    return coef"
   ]
  },
  {
   "cell_type": "code",
   "execution_count": 216,
   "metadata": {
    "collapsed": false
   },
   "outputs": [
    {
     "name": "stdout",
     "output_type": "stream",
     "text": [
      "\n",
      "Logistic Regressioin Stats\n",
      "precision: [ 0.96122502  0.67563636]\n",
      "recall: [ 0.98810096  0.383409  ]\n",
      "fscore: [ 0.97447771  0.48920484]\n",
      "support: [37482  2423]\n",
      "Accuracy:0.951384538278\n"
     ]
    }
   ],
   "source": [
    "#Build Logistic Regression Model function\n",
    "logistic = LogisticRegression()\n",
    "logistic.fit(X_train,y_train)\n",
    "y_pred = logistic.predict(X_test)\n",
    "me_coef = getModelPerformanceStat(y_test, y_pred, logistic, X_train)"
   ]
  },
  {
   "cell_type": "code",
   "execution_count": 218,
   "metadata": {
    "collapsed": false
   },
   "outputs": [
    {
     "data": {
      "text/plain": [
       "[(2.779, 'AHGA[T. Doctorate degree(PhD EdD)]'),\n",
       " (2.397, 'AHGA[T. Prof school degree (MD DDS DVM LLB JD)]'),\n",
       " (2.096, 'AHGA[T. Masters degree(MA MS MEng MEd MSW MBA)]'),\n",
       " (1.569, 'AHGA[T. Bachelors degree(BA AB BS)]'),\n",
       " (1.208, 'ADTIND[T.20]'),\n",
       " (1.168, 'HHDFMX[T. Spouse of RP of unrelated subfamily]'),\n",
       " (1.127, 'CAPGAIN_bin'),\n",
       " (1.094, 'ADTOCC[T.45]'),\n",
       " (1.059, 'ASEX[T. Male]'),\n",
       " (1.037, 'CAPLOSS_bin'),\n",
       " (1.028, 'ADTIND[T.26]'),\n",
       " (0.944, 'ADTOCC[T.7]'),\n",
       " (0.9, 'AHGA[T. Associates degree-occup /vocational]'),\n",
       " (0.89, 'GRINST[T. Massachusetts]'),\n",
       " (0.89, 'AHGA[T. Associates degree-academic program]'),\n",
       " (0.848, 'DIVVAL_bin'),\n",
       " (0.824, 'AHGA[T. Some college but no degree]'),\n",
       " (0.814, 'AMJOCC[T. Professional specialty]'),\n",
       " (0.801, 'ADTIND[T.13]'),\n",
       " (0.791, 'GRINST[T. District of Columbia]'),\n",
       " (0.777, 'GRINST[T. Alaska]'),\n",
       " (0.766, 'ADTOCC[T.11]'),\n",
       " (0.76, 'ACLSWKR[ Self-employed-incorporated]'),\n",
       " (0.707, 'AWKSTAT[T. Not in labor force]'),\n",
       " (0.66, 'AWKSTAT[T. PT for non-econ reasons usually FT]'),\n",
       " (0.656, 'AWKSTAT[T. Full-time schedules]'),\n",
       " (0.654, 'ADTOCC[T.2]'),\n",
       " (0.64, 'GRINST[T. Connecticut]'),\n",
       " (0.621, 'AMJOCC[T. Executive admin and managerial]'),\n",
       " (0.6, 'ADTOCC[T.40]'),\n",
       " (0.584, 'AMJOCC[T. Sales]'),\n",
       " (0.548, 'GRINST[T. New Jersey]'),\n",
       " (0.544, 'HHDREL[T. Householder]'),\n",
       " (0.534, 'ADTOCC[T.21]'),\n",
       " (0.511, 'AHGA[T. High school graduate]'),\n",
       " (0.505, 'HHDFMX[T. Spouse of householder]'),\n",
       " (0.488, 'SEOTR[T.1]'),\n",
       " (0.47, 'MIGMTR1[T. Abroad to MSA]'),\n",
       " (0.47, 'AWKSTAT[T. PT for econ reasons usually PT]'),\n",
       " (0.468, 'AWKSTAT[T. PT for econ reasons usually FT]'),\n",
       " (0.462, 'AWKSTAT[T. Unemployed full-time]'),\n",
       " (0.451, 'AMJOCC[T. Armed Forces]'),\n",
       " (0.451, 'AMJIND[T. Armed Forces]'),\n",
       " (0.451, 'ADTOCC[T.46]'),\n",
       " (0.451, 'ADTIND[T.51]'),\n",
       " (0.441, 'AHSCOL[T. High school]'),\n",
       " (0.436, 'HHDREL[T. Nonrelative of householder]'),\n",
       " (0.423, 'ADTOCC[T.32]'),\n",
       " (0.422, 'ADTOCC[T.15]'),\n",
       " (0.406, 'ARACE[T. White]'),\n",
       " (0.392, 'ADTIND[T.47]'),\n",
       " (0.384, 'HHDFMX[T. Other Rel 18+ ever marr RP of subfamily]'),\n",
       " (0.38, 'ARACE[T. Other]'),\n",
       " (0.374, 'ADTOCC[T.16]'),\n",
       " (0.366, 'MIGMTR4[T. Different state in West]'),\n",
       " (0.366, 'GRINST[T. Idaho]'),\n",
       " (0.36, 'ADTIND[T.25]'),\n",
       " (0.353, 'AMJIND[T. Mining]'),\n",
       " (0.353, 'AHGA[T. 12th grade no diploma]'),\n",
       " (0.353, 'ADTIND[T.3]'),\n",
       " (0.337, 'AUNTYPE[T. New entrant]'),\n",
       " (0.337, 'ACLSWKR[ Never worked]'),\n",
       " (0.336, 'GRINST[T. Arkansas]'),\n",
       " (0.336, 'ADTOCC[T.17]'),\n",
       " (0.333, 'ADTIND[T.23]'),\n",
       " (0.329, 'GRINST[T. Tennessee]'),\n",
       " (0.327, 'MIGMTR3[T. Different region]'),\n",
       " (0.318, 'GRINST[T. California]'),\n",
       " (0.315, 'AMJIND[T. Manufacturing-nondurable goods]'),\n",
       " (0.311, 'GRINST[T. Oklahoma]'),\n",
       " (0.31, 'ADTOCC[T.30]'),\n",
       " (0.309, 'VETYN[T.1]'),\n",
       " (0.309, 'AUNMEM[T. Yes]'),\n",
       " (0.307, 'ARACE[T. Asian or Pacific Islander]'),\n",
       " (0.3, 'AMJOCC[T. Farming forestry and fishing]'),\n",
       " (0.297, 'ADTOCC[T.18]'),\n",
       " (0.284, 'HHDFMX[T. Nonfamily householder]'),\n",
       " (0.284, 'GRINST[T. New Hampshire]'),\n",
       " (0.284, 'ADTOCC[T.8]'),\n",
       " (0.282, 'MIGMTR1[T. NonMSA to MSA]'),\n",
       " (0.281, 'AMJIND[T. Utilities and sanitary services]'),\n",
       " (0.281, 'ADTIND[T.8]'),\n",
       " (0.281, 'ADTIND[T.31]'),\n",
       " (0.279, 'PARENT[T. Not in universe]'),\n",
       " (0.271, 'ADTIND[T.15]'),\n",
       " (0.268, 'MIGMTR4[T. Different state in South]'),\n",
       " (0.268, 'AREORGN[T. NA]'),\n",
       " (0.268, 'ACLSWKR[ Federal government]'),\n",
       " (0.267, 'AMJOCC[T. Not in universe]'),\n",
       " (0.267, 'AMJIND[T. Not in universe or children]'),\n",
       " (0.252, 'FILESTAT[T. Joint both under 65]'),\n",
       " (0.247, 'ADTOCC[T.4]'),\n",
       " (0.245, 'MIGMTR1[T. MSA to MSA]'),\n",
       " (0.245, 'AMJOCC[T. Technicians and related support]'),\n",
       " (0.243, 'ADTOCC[T.5]'),\n",
       " (0.24, 'ADTIND[T.37]'),\n",
       " (0.239, 'ADTIND[T.12]'),\n",
       " (0.238, 'AHSCOL[T. Not in universe]'),\n",
       " (0.237, 'HHDFMX[T. Other Rel 18+ spouse of subfamily RP]'),\n",
       " (0.237, 'GRINST[T. Maine]'),\n",
       " (0.232, 'HHDREL[T. Other relative of householder]'),\n",
       " (0.232, 'GRINST[T. Florida]'),\n",
       " (0.232, 'AMJOCC[T. Protective services]'),\n",
       " (0.232, 'ADTOCC[T.28]'),\n",
       " (0.224, 'HHDREL[T. Spouse of householder]'),\n",
       " (0.22, 'GRINST[T. South Carolina]'),\n",
       " (0.218, 'VETYN[T.2]'),\n",
       " (0.218, 'ADTIND[T.11]'),\n",
       " (0.209, 'ADTIND[T.34]'),\n",
       " (0.196, 'GRINREG[T. Northeast]'),\n",
       " (0.195, 'GRINST[T. Kentucky]'),\n",
       " (0.194, 'GRINST[T. New Mexico]'),\n",
       " (0.188, 'HHDFMX[T. Child 18+ spouse of subfamily RP]'),\n",
       " (0.171, 'AMJIND[T. Transportation]'),\n",
       " (0.171, 'ADTIND[T.29]'),\n",
       " (0.171, 'ADTIND[T.16]'),\n",
       " (0.166, 'ADTOCC[T.39]'),\n",
       " (0.158, 'AMJIND[T. Communications]'),\n",
       " (0.158, 'ADTIND[T.30]'),\n",
       " (0.156, 'HHDFMX[T. Householder]'),\n",
       " (0.154, 'AUNTYPE[T. Re-entrant]'),\n",
       " (0.15, 'ARACE[T. Black]'),\n",
       " (0.144, 'AMJIND[T. Public administration]'),\n",
       " (0.142, 'NOEMP'),\n",
       " (0.142, 'GRINST[T. Wisconsin]'),\n",
       " (0.142, 'ADTOCC[T.34]'),\n",
       " (0.139, 'AHGA[T. 11th grade]'),\n",
       " (0.136, 'AMJIND[T. Finance insurance and real estate]'),\n",
       " (0.135, 'AUNTYPE[T. Not in universe]'),\n",
       " (0.124, 'ACLSWKR[ Self-employed-not incorporated]'),\n",
       " (0.12, 'GRINST[T. North Carolina]'),\n",
       " (0.118, 'GRINST[T. Alabama]'),\n",
       " (0.117, 'GRINST[T. Illinois]'),\n",
       " (0.117, 'AMJIND[T. Manufacturing-durable goods]'),\n",
       " (0.107, 'GRINST[T. West Virginia]'),\n",
       " (0.098, 'GRINST[T. Wyoming]'),\n",
       " (0.086, 'AMJOCC[T. Precision production craft & repair]'),\n",
       " (0.082, 'MIGSAME[T. Yes]'),\n",
       " (0.082, 'MIGMTR4[T. Nonmover]'),\n",
       " (0.082, 'MIGMTR3[T. Nonmover]'),\n",
       " (0.082, 'MIGMTR1[T. Nonmover]'),\n",
       " (0.077, 'ADTIND[T.49]'),\n",
       " (0.074, 'HHDFMX[T. Grandchild 18+ ever marr not in subfamily]'),\n",
       " (0.073, 'AUNTYPE[T. Other job loser]'),\n",
       " (0.072, 'GRINREG[T. West]'),\n",
       " (0.068, 'MIGSUN[T. Not in universe]'),\n",
       " (0.066, 'ADTIND[T.14]'),\n",
       " (0.065, 'AUNMEM[T. Not in universe]'),\n",
       " (0.063, 'HHDFMX[T. Secondary individual]'),\n",
       " (0.056, 'ACLSWKR[ Private]'),\n",
       " (0.054, 'ADTIND[T.9]'),\n",
       " (0.052, 'HHDREL[T. Group Quarters- Secondary individual]'),\n",
       " (0.051, 'ADTOCC[T.20]'),\n",
       " (0.046, 'MIGSUN[T. No]'),\n",
       " (0.045, 'GRINREG[T. South]'),\n",
       " (0.038, 'PENATVTY_bin'),\n",
       " (0.034, 'WKSWORK'),\n",
       " (0.031, 'MIGMTR4[T. Abroad]'),\n",
       " (0.031, 'MIGMTR3[T. Abroad]'),\n",
       " (0.031, 'AAGE'),\n",
       " (0.028, 'ADTIND[T.50]'),\n",
       " (0.027, 'GRINST[T. Michigan]'),\n",
       " (0.023, 'AMJIND[T. Other professional services]'),\n",
       " (0.023, 'ADTOCC[T.33]'),\n",
       " (0.023, 'ADTIND[T.45]'),\n",
       " (0.021, 'GRINST[T. Not in universe]'),\n",
       " (0.021, 'GRINREG[T. Not in universe]'),\n",
       " (0.021, 'AMARITL[T. Separated]'),\n",
       " (0.018, 'PRCITSHP[T. Foreign born- U S citizen by naturalization]'),\n",
       " (0.015, 'AWKSTAT[T. Unemployed part- time]'),\n",
       " (0.011, 'GRINST[T. New York]'),\n",
       " (0.011, 'ADTOCC[T.1]'),\n",
       " (0.007, 'AMJIND[T. Wholesale trade]'),\n",
       " (0.007, 'AMJIND[T. Construction]'),\n",
       " (0.007, 'ADTIND[T.4]'),\n",
       " (0.007, 'ADTIND[T.32]'),\n",
       " (0.001, 'MIGMTR4[T. Different county same state]'),\n",
       " (0.001, 'MIGMTR3[T. Different county same state]'),\n",
       " (0.001, 'ADTOCC[T.13]'),\n",
       " (-0.0, 'HHDFMX[T. Other Rel <18 spouse of subfamily RP]'),\n",
       " (-0.0, 'HHDFMX[T. Other Rel <18 never married RP of subfamily]'),\n",
       " (-0.0, 'HHDFMX[T. Other Rel <18 ever marr not in subfamily]'),\n",
       " (-0.0, 'HHDFMX[T. Grandchild <18 never marr RP of subfamily]'),\n",
       " (-0.0, 'HHDFMX[T. Child <18 spouse of subfamily RP]'),\n",
       " (-0.0, 'AHRSPAY'),\n",
       " (-0.001, 'HHDFMX[T. Child <18 ever marr RP of subfamily]'),\n",
       " (-0.002, 'HHDREL[T. Child under 18 ever married]'),\n",
       " (-0.002, 'HHDFMX[T. Child <18 ever marr not in subfamily]'),\n",
       " (-0.003, 'HHDFMX[T. Other Rel <18 ever marr RP of subfamily]'),\n",
       " (-0.003, 'HHDFMX[T. Grandchild 18+ never marr RP of subfamily]'),\n",
       " (-0.006, 'HHDFMX[T. Child <18 never marr RP of subfamily]'),\n",
       " (-0.008, 'MIGMTR1[T. Not identifiable]'),\n",
       " (-0.01, 'HHDFMX[T. Grandchild 18+ never marr not in subfamily]'),\n",
       " (-0.01, 'AREORGN[T. Cuban]'),\n",
       " (-0.014, 'PRCITSHP[T. Native- Born in the United States]'),\n",
       " (-0.014, 'MIGMTR4[T. Not in universe]'),\n",
       " (-0.014, 'MIGMTR3[T. Not in universe]'),\n",
       " (-0.014, 'MIGMTR1[T. Not in universe]'),\n",
       " (-0.015, 'PEFNTVTY_bin'),\n",
       " (-0.015, 'AUNTYPE[T. Job loser - on layoff]'),\n",
       " (-0.016, 'HHDFMX[T. Other Rel <18 never marr child of subfamily RP]'),\n",
       " (-0.017, 'GRINST[T. Minnesota]'),\n",
       " (-0.017, 'ADTOCC[T.22]'),\n",
       " (-0.023, 'HHDFMX[T. Child under 18 of RP of unrel subfamily]'),\n",
       " (-0.023, 'ADTIND[T.10]'),\n",
       " (-0.025, 'HHDFMX[T. Grandchild 18+ ever marr RP of subfamily]'),\n",
       " (-0.026, 'AMARITL[T. Widowed]'),\n",
       " (-0.027, 'HHDFMX[T. Other Rel 18+ never marr not in subfamily]'),\n",
       " (-0.029, 'HHDFMX[T. Other Rel <18 never marr not in subfamily]'),\n",
       " (-0.032, 'HHDFMX[T. Grandchild <18 never marr not in subfamily]'),\n",
       " (-0.034, 'HHDFMX[T. Grandchild <18 never marr child of subfamily RP]'),\n",
       " (-0.037, 'PEMNTVTY_bin'),\n",
       " (-0.039, 'AMJIND[T. Entertainment]'),\n",
       " (-0.039, 'ADTIND[T.40]'),\n",
       " (-0.04, 'HHDFMX[T. Grandchild 18+ spouse of subfamily RP]'),\n",
       " (-0.041, 'PARENT[T. Father only present]'),\n",
       " (-0.043, 'GRINST[T. Nevada]'),\n",
       " (-0.044, 'GRINST[T. Montana]'),\n",
       " (-0.045, 'ADTOCC[T.3]'),\n",
       " (-0.049, 'AMJOCC[T. Transportation and material moving]'),\n",
       " (-0.05, 'ADTIND[T.7]'),\n",
       " (-0.053, 'PRCITSHP[T. Native- Born abroad of American Parent(s)]'),\n",
       " (-0.054, 'AMJIND[T. Business and repair services]'),\n",
       " (-0.056, 'MIGMTR4[T. Same county]'),\n",
       " (-0.056, 'MIGMTR3[T. Same county]'),\n",
       " (-0.056, 'AHGA[T. 1st 2nd 3rd or 4th grade]'),\n",
       " (-0.06, 'GRINST[T. Missouri]'),\n",
       " (-0.061, 'PARENT[T. Neither parent present]'),\n",
       " (-0.061, 'MIGSAME[T. Not in universe under 1 year old]'),\n",
       " (-0.068, 'MIGSUN[T. Yes]'),\n",
       " (-0.071, 'ACLSWKR[ Not in universe]'),\n",
       " (-0.072, 'ADTIND[T.2]'),\n",
       " (-0.073, 'ADTIND[T.35]'),\n",
       " (-0.074, 'GRINST[T. Iowa]'),\n",
       " (-0.077, 'SEOTR[T.2]'),\n",
       " (-0.077, 'GRINST[T. North Dakota]'),\n",
       " (-0.079, 'ADTOCC[T.35]'),\n",
       " (-0.085, 'ADTOCC[T.43]'),\n",
       " (-0.086, 'MIGMTR4[T. Different state in Midwest]'),\n",
       " (-0.095, 'HHDFMX[T. Child 18+ never marr RP of subfamily]'),\n",
       " (-0.106, 'YEAR'),\n",
       " (-0.106, 'AHGA[T. 9th grade]'),\n",
       " (-0.107, 'HHDFMX[T. Other Rel 18+ never marr RP of subfamily]'),\n",
       " (-0.117, 'MIGMTR3[T. Different division same region]'),\n",
       " (-0.117, 'ADTOCC[T.36]'),\n",
       " (-0.121, 'AMJIND[T. Hospital services]'),\n",
       " (-0.121, 'ADTIND[T.41]'),\n",
       " (-0.122, 'AMJIND[T. Medical except hospital]'),\n",
       " (-0.122, 'ADTIND[T.42]'),\n",
       " (-0.126, 'HHDFMX[T. Child 18+ ever marr RP of subfamily]'),\n",
       " (-0.132, 'GRINST[T. Delaware]'),\n",
       " (-0.136, 'GRINST[T. South Dakota]'),\n",
       " (-0.137, 'HHDFMX[T. Other Rel 18+ ever marr not in subfamily]'),\n",
       " (-0.139, 'GRINST[T. Arizona]'),\n",
       " (-0.141, 'AREORGN[T. Puerto Rican]'),\n",
       " (-0.142, 'HHDFMX[T. In group quarters]'),\n",
       " (-0.143, 'HHDFMX[T. Child <18 never marr not in subfamily]'),\n",
       " (-0.144, 'GRINST[T. Indiana]'),\n",
       " (-0.15, 'HHDREL[T. Child under 18 never married]'),\n",
       " (-0.152, 'ACLSWKR[ Local government]'),\n",
       " (-0.163, 'AHGA[T. 7th and 8th grade]'),\n",
       " (-0.165, 'AMARITL[T. Married-spouse absent]'),\n",
       " (-0.167, 'GRINST[T. Abroad]'),\n",
       " (-0.178, 'ADTOCC[T.14]'),\n",
       " (-0.184, 'ADTOCC[T.9]'),\n",
       " (-0.192, 'AMJIND[T. Education]'),\n",
       " (-0.192, 'ADTIND[T.43]'),\n",
       " (-0.208, 'MIGMTR3[T. Different state same division]'),\n",
       " (-0.208, 'AMJIND[T. Forestry and fisheries]'),\n",
       " (-0.208, 'ADTIND[T.46]'),\n",
       " (-0.209, 'PARENT[T. Mother only present]'),\n",
       " (-0.214, 'ADTOCC[T.38]'),\n",
       " (-0.215, 'PRCITSHP[T. Native- Born in Puerto Rico or U S Outlying]'),\n",
       " (-0.221, 'AMJIND[T. Retail trade]'),\n",
       " (-0.221, 'ADTIND[T.33]'),\n",
       " (-0.224, 'ADTIND[T.28]'),\n",
       " (-0.237, 'ADTOCC[T.37]'),\n",
       " (-0.24, 'AMJIND[T. Personal services except private HH]'),\n",
       " (-0.24, 'ADTIND[T.39]'),\n",
       " (-0.247, 'GRINST[T. Texas]'),\n",
       " (-0.248, 'AMJOCC[T. Private household services]'),\n",
       " (-0.248, 'ADTOCC[T.27]'),\n",
       " (-0.252, 'GRINST[T. Ohio]'),\n",
       " (-0.258, 'GRINST[T. Kansas]'),\n",
       " (-0.265, 'AREORGN[T. Mexican-American]'),\n",
       " (-0.273, 'AREORGN[T. Other Spanish]'),\n",
       " (-0.276, 'FILESTAT[T. Joint one under 65 & one 65+]'),\n",
       " (-0.277, 'MIGMTR1[T. NonMSA to nonMSA]'),\n",
       " (-0.28, 'ADTIND[T.24]'),\n",
       " (-0.281, 'HHDFMX[T. Child 18+ never marr Not in a subfamily]'),\n",
       " (-0.282, 'AMJIND[T. Private household services]'),\n",
       " (-0.282, 'ADTIND[T.36]'),\n",
       " (-0.293, 'ADTIND[T.38]'),\n",
       " (-0.295, 'GRINST[T. Vermont]'),\n",
       " (-0.296, 'ADTIND[T.17]'),\n",
       " (-0.297, 'MIGMTR1[T. MSA to nonMSA]'),\n",
       " (-0.31, 'VETQVA[T. Not in universe]'),\n",
       " (-0.311, 'GRINST[T. Utah]'),\n",
       " (-0.312, 'AREORGN[T. Chicano]'),\n",
       " (-0.313, 'FILESTAT[T. Joint both 65+]'),\n",
       " (-0.33, 'GRINST[T. Colorado]'),\n",
       " (-0.332, 'FILESTAT[T. Single]'),\n",
       " (-0.346, 'AHGA[T. 5th or 6th grade]'),\n",
       " (-0.351, 'GRINST[T. Oregon]'),\n",
       " (-0.352, 'ADTOCC[T.41]'),\n",
       " (-0.353, 'AMJOCC[T. Handlers equip cleaners etc ]'),\n",
       " (-0.354, 'AMJOCC[T. Machine operators assmblrs & inspctrs]'),\n",
       " (-0.354, 'ADTIND[T.48]'),\n",
       " (-0.354, 'ADTIND[T.27]'),\n",
       " (-0.364, 'AREORGN[T. Mexican (Mexicano)]'),\n",
       " (-0.364, 'ADTIND[T.22]'),\n",
       " (-0.365, 'GRINREG[T. Midwest]'),\n",
       " (-0.377, 'AMARITL[T. Never married]'),\n",
       " (-0.379, 'ADTOCC[T.6]'),\n",
       " (-0.419, 'VETQVA[T. Yes]'),\n",
       " (-0.426, 'ADTIND[T.1]'),\n",
       " (-0.431, 'AMARITL[T. Married-civilian spouse present]'),\n",
       " (-0.437, 'MIGMTR1[T. Abroad to nonMSA]'),\n",
       " (-0.44, 'AREORGN[T. Do not know]'),\n",
       " (-0.453, 'AMJIND[T. Social services]'),\n",
       " (-0.453, 'ADTIND[T.44]'),\n",
       " (-0.465, 'GRINST[T. Mississippi]'),\n",
       " (-0.466, 'GRINST[T. Pennsylvania]'),\n",
       " (-0.468, 'ADTIND[T.18]'),\n",
       " (-0.473, 'ADTOCC[T.19]'),\n",
       " (-0.478, 'AMJOCC[T. Other service]'),\n",
       " (-0.479, 'GRINST[T. Nebraska]'),\n",
       " (-0.482, 'ADTOCC[T.10]'),\n",
       " (-0.49, 'AREORGN[T. Central or South American]'),\n",
       " (-0.5, 'ACLSWKR[ State government]'),\n",
       " (-0.526, 'ADTOCC[T.24]'),\n",
       " (-0.529, 'AHGA[T. Children]'),\n",
       " (-0.531, 'ADTIND[T.19]'),\n",
       " (-0.546, 'MIGMTR4[T. Different state in Northeast]'),\n",
       " (-0.556, 'ADTIND[T.6]'),\n",
       " (-0.568, 'ADTOCC[T.29]'),\n",
       " (-0.59, 'ADTIND[T.5]'),\n",
       " (-0.601, 'ADTOCC[T.42]'),\n",
       " (-0.619, 'GRINST[T. Virginia]'),\n",
       " (-0.62, 'ADTOCC[T.23]'),\n",
       " (-0.625, 'ADTOCC[T.12]'),\n",
       " (-0.643, 'ADTOCC[T.31]'),\n",
       " (-0.671, 'AHGA[T. Less than 1st grade]'),\n",
       " (-0.68, 'AMARITL[T. Married-A F spouse present]'),\n",
       " (-0.69, 'GRINST[T. Georgia]'),\n",
       " (-0.705, 'ADTOCC[T.25]'),\n",
       " (-0.709, 'ADTOCC[T.44]'),\n",
       " (-0.755, 'HHDFMX[T. RP of unrelated subfamily]'),\n",
       " (-0.779, 'GRINST[T. Maryland]'),\n",
       " (-0.783, 'ADTOCC[T.26]'),\n",
       " (-0.824, 'ACLSWKR[ Without pay]'),\n",
       " (-0.861, 'ADTIND[T.21]'),\n",
       " (-0.971, 'GRINST[T. Louisiana]'),\n",
       " (-1.762, 'FILESTAT[T. Nonfiler]')]"
      ]
     },
     "execution_count": 218,
     "metadata": {},
     "output_type": "execute_result"
    }
   ],
   "source": [
    "sorted(((v,k) for k,v in me_coef.iteritems()), reverse=True)"
   ]
  },
  {
   "cell_type": "code",
   "execution_count": 219,
   "metadata": {
    "collapsed": false
   },
   "outputs": [
    {
     "name": "stdout",
     "output_type": "stream",
     "text": [
      "<class 'pandas.core.frame.DataFrame'>\n",
      "Int64Index: 99762 entries, 0 to 99761\n",
      "Columns: 355 entries, ACLSWKR[ Federal government] to INCOME_IND\n",
      "dtypes: float64(343), int64(12)\n",
      "memory usage: 271.0 MB\n",
      "None\n",
      "\n",
      "Logistic Regressioin Stats\n",
      "precision: [ 0.96051225  0.69967676]\n",
      "recall: [ 0.9890784   0.38490139]\n",
      "fscore: [ 0.97458604  0.4966107 ]\n",
      "support: [93576  6186]\n",
      "Accuracy:0.951614843327\n"
     ]
    }
   ],
   "source": [
    "#Test the model on testing data\n",
    "testData = getCleanData('census-income-test.csv')\n",
    "\n",
    "#Have to add HHDFMX[T. Grandchild <18 ever marr not in subfamily] because it's missing in test data\n",
    "X_test2 = testData[testData.columns[:-1]]\n",
    "y_test2 = testData[testData.columns[-1]]\n",
    "y_test2_pred = logistic.predict(X_test2)\n",
    "#logisticReg_acu2 = accuracy_score(y_test2, y_test2_pred)\n",
    "coef2 = getModelPerformanceStat(y_test2, y_test2_pred, logistic, X_test2)"
   ]
  },
  {
   "cell_type": "code",
   "execution_count": 128,
   "metadata": {
    "collapsed": false
   },
   "outputs": [],
   "source": [
    "y_test_df = pd.DataFrame(y_test2)\n",
    "y_test2_pred_df = pd.DataFrame(y_test2_pred)\n",
    "\n",
    "comp =pd.merge(y_test_df,y_test2_pred_df,right_index=True, left_index=True)\n",
    "comp['m'] = comp.apply(lambda row: row['INCOME_IND']==row[0],axis=1)\n",
    "comp.to_csv('check_results.csv')"
   ]
  },
  {
   "cell_type": "code",
   "execution_count": 129,
   "metadata": {
    "collapsed": false
   },
   "outputs": [
    {
     "name": "stdout",
     "output_type": "stream",
     "text": [
      "Populating the interactive namespace from numpy and matplotlib\n"
     ]
    },
    {
     "name": "stderr",
     "output_type": "stream",
     "text": [
      "WARNING: pylab import has clobbered these variables: ['logistic', 'randint']\n",
      "`%matplotlib` prevents importing * from pylab and numpy\n"
     ]
    }
   ],
   "source": [
    "import pandas as pd\n",
    "import numpy as np\n",
    "import re\n",
    "%pylab inline\n",
    "import sklearn as skl\n",
    "import random\n",
    "import seaborn as sns\n",
    "import matplotlib as mpl\n",
    "import matplotlib.pyplot as plt\n",
    "from sklearn.externals import joblib\n",
    "from sklearn.ensemble import GradientBoostingClassifier as GBC\n",
    "from sklearn.grid_search import GridSearchCV\n",
    "from sklearn.ensemble.partial_dependence import plot_partial_dependence as PDP\n",
    "from sklearn.externals import joblib \n",
    "from sklearn.feature_selection import RFE\n",
    "from sklearn.linear_model import LogisticRegression,LinearRegression\n",
    "from sklearn import preprocessing\n",
    "from __future__ import print_function\n",
    "import statsmodels.api as sm\n",
    "import statsmodels.formula.api as smf\n",
    "#import xgboost as xgb\n",
    "import copy\n",
    "from sklearn.cross_validation import train_test_split\n",
    "%matplotlib inline\n"
   ]
  },
  {
   "cell_type": "code",
   "execution_count": 163,
   "metadata": {
    "collapsed": true
   },
   "outputs": [],
   "source": [
    "#Trick: add dummy variable with random value. \n",
    "#Anything above it will be useful anything bellow discard\n",
    "XGB_model = GBC(\n",
    "                learning_rate=0.1, n_estimators=100, subsample=1.0,max_depth=3,\n",
    "                                    )\n",
    "\n",
    "XGB_model.fit(X_train, y_train)\n",
    "pred_y_train = XGB_model.predict_proba(X_train)[:,1]\n",
    "pred_y_test = XGB_model.predict_proba(X_test)[:,1]"
   ]
  },
  {
   "cell_type": "code",
   "execution_count": 238,
   "metadata": {
    "collapsed": false
   },
   "outputs": [
    {
     "data": {
      "text/html": [
       "<div>\n",
       "<table border=\"1\" class=\"dataframe\">\n",
       "  <thead>\n",
       "    <tr style=\"text-align: right;\">\n",
       "      <th></th>\n",
       "      <th>0_x</th>\n",
       "      <th>0_y</th>\n",
       "    </tr>\n",
       "  </thead>\n",
       "  <tbody>\n",
       "    <tr>\n",
       "      <th>343</th>\n",
       "      <td>0.078570</td>\n",
       "      <td>AAGE</td>\n",
       "    </tr>\n",
       "    <tr>\n",
       "      <th>347</th>\n",
       "      <td>0.060844</td>\n",
       "      <td>NOEMP</td>\n",
       "    </tr>\n",
       "    <tr>\n",
       "      <th>180</th>\n",
       "      <td>0.054450</td>\n",
       "      <td>ASEX[T. Male]</td>\n",
       "    </tr>\n",
       "    <tr>\n",
       "      <th>344</th>\n",
       "      <td>0.048499</td>\n",
       "      <td>WKSWORK</td>\n",
       "    </tr>\n",
       "    <tr>\n",
       "      <th>346</th>\n",
       "      <td>0.047634</td>\n",
       "      <td>AHRSPAY</td>\n",
       "    </tr>\n",
       "    <tr>\n",
       "      <th>116</th>\n",
       "      <td>0.043031</td>\n",
       "      <td>AHGA[T. Doctorate degree(PhD EdD)]</td>\n",
       "    </tr>\n",
       "    <tr>\n",
       "      <th>120</th>\n",
       "      <td>0.039206</td>\n",
       "      <td>AHGA[T. Prof school degree (MD DDS DVM LLB JD)]</td>\n",
       "    </tr>\n",
       "    <tr>\n",
       "      <th>119</th>\n",
       "      <td>0.035949</td>\n",
       "      <td>AHGA[T. Masters degree(MA MS MEng MEd MSW MBA)]</td>\n",
       "    </tr>\n",
       "    <tr>\n",
       "      <th>348</th>\n",
       "      <td>0.032948</td>\n",
       "      <td>CAPGAIN_bin</td>\n",
       "    </tr>\n",
       "    <tr>\n",
       "      <th>114</th>\n",
       "      <td>0.031761</td>\n",
       "      <td>AHGA[T. Bachelors degree(BA AB BS)]</td>\n",
       "    </tr>\n",
       "  </tbody>\n",
       "</table>\n",
       "</div>"
      ],
      "text/plain": [
       "          0_x                                              0_y\n",
       "343  0.078570                                             AAGE\n",
       "347  0.060844                                            NOEMP\n",
       "180  0.054450                                    ASEX[T. Male]\n",
       "344  0.048499                                          WKSWORK\n",
       "346  0.047634                                          AHRSPAY\n",
       "116  0.043031               AHGA[T. Doctorate degree(PhD EdD)]\n",
       "120  0.039206  AHGA[T. Prof school degree (MD DDS DVM LLB JD)]\n",
       "119  0.035949  AHGA[T. Masters degree(MA MS MEng MEd MSW MBA)]\n",
       "348  0.032948                                      CAPGAIN_bin\n",
       "114  0.031761              AHGA[T. Bachelors degree(BA AB BS)]"
      ]
     },
     "execution_count": 238,
     "metadata": {},
     "output_type": "execute_result"
    }
   ],
   "source": [
    "#fnl_features = {}\n",
    "#for i in range(len(XGB_model.feature_importances_)):\n",
    "#    if XGB_model.feature_importances_[i] > 0:\n",
    "#        fnl_features[X_train.columns.values[i]] = round(XGB_model.feature_importances_[i],3)\n",
    "\n",
    "xgb_features = pd.DataFrame(XGB_model.feature_importances_)\n",
    "\n",
    "headers = pd.DataFrame(X_train.columns.values)\n",
    "#headers.head()\n",
    "xgb_features = pd.merge(xgb_features, headers, right_index=True, left_index=True)\n",
    "xgb_features.sort_values('0_x', ascending = False).head(10)"
   ]
  },
  {
   "cell_type": "code",
   "execution_count": 229,
   "metadata": {
    "collapsed": true
   },
   "outputs": [],
   "source": [
    "def somersd(score, target, bins=500):\n",
    "    pred = np.array([score, target]).T\n",
    "    score, target = pred[pred.argsort(0)[:,0]].T\n",
    "    #score, target = np.array(pd.DataFrame(pred).sort((0,1))).T\n",
    "    \n",
    "    n_1=float(sum(target))\n",
    "    n_0=float(len(score)-n_1)\n",
    "    \n",
    "    pct_1=[0.0]\n",
    "    pct_0=[0.0]\n",
    "\n",
    "    for i in xrange(bins):\n",
    "        end = int(float(i+1)/bins*len(pred))\n",
    "        c_1 = sum(target[0:end])\n",
    "        pct_1.append(c_1/n_1)\n",
    "        pct_0.append((end-c_1)/n_0)\n",
    "\n",
    "    pct_1.append(1.0)\n",
    "    pct_0.append(1.0)\n",
    "    \n",
    "    sd=[(pct_1[i+1]+pct_1[i])*(pct_0[i+1]-pct_0[i]) for i in xrange(bins)]\n",
    "    \n",
    "    somersd=1-sum(sd)\n",
    "    return somersd\n",
    "\n",
    "def somers_plots(preds, bins=40):\n",
    "    figsize(16,8)\n",
    "    df = pd.DataFrame()\n",
    "    for model, pred in preds.iteritems():\n",
    "        mname = str(model)[:str(model).find(\"(\")]\n",
    "        #p = np.array(pd.DataFrame(pred).sort((0,1)))\n",
    "        p = pred[pred.argsort(0)[:,0]]\n",
    "        pct = []\n",
    "        for i in xrange(bins):\n",
    "            start = int(float(i)/bins*len(p))\n",
    "            end = int(float(i+1)/bins*len(p))\n",
    "            pct.append((i, np.mean(p[start:end,1])))\n",
    "        pct = np.array(pct)\n",
    "        for i in pct[:,1]:\n",
    "            print (i)\n",
    "        som = ' (%.3f)' % somersd(p[:,0], p[:,1])\n",
    "        df = pd.concat([df, pd.DataFrame([pct, mname+som, som]).T])\n",
    "         \n",
    "    for k, v in df.sort(2, ascending=False).iterrows():\n",
    "        pct = v.get_values()[0]\n",
    "        plot(pct[:,0], pct[:,1], label=v[1])\n",
    "    \n",
    "    ylim(0,0.8)\n",
    "    legend(loc='lower right')\n",
    "    show()"
   ]
  },
  {
   "cell_type": "code",
   "execution_count": 133,
   "metadata": {
    "collapsed": false
   },
   "outputs": [
    {
     "name": "stdout",
     "output_type": "stream",
     "text": [
      "0.0\n",
      "0.0\n",
      "0.0\n",
      "0.0\n",
      "0.0\n",
      "0.000501190327027\n",
      "0.00150357098108\n",
      "0.00137827339932\n",
      "0.00413482019797\n",
      "0.00438541536148\n",
      "0.00789473684211\n",
      "0.00877083072297\n",
      "0.0126550557574\n",
      "0.0200476130811\n",
      "0.0295702292946\n",
      "0.0556321263\n",
      "0.0769327151986\n",
      "0.136449066533\n",
      "0.265004385415\n",
      "0.622979576494\n",
      "0.0\n",
      "0.0\n",
      "0.0\n",
      "0.0\n",
      "0.0\n",
      "0.0\n",
      "0.00200501253133\n",
      "0.00100200400802\n",
      "0.00401002506266\n",
      "0.00501253132832\n",
      "0.00651629072682\n",
      "0.0100200400802\n",
      "0.0160401002506\n",
      "0.0205513784461\n",
      "0.0285714285714\n",
      "0.0541082164329\n",
      "0.0706766917293\n",
      "0.128822055138\n",
      "0.266666666667\n",
      "0.600200400802\n"
     ]
    },
    {
     "name": "stderr",
     "output_type": "stream",
     "text": [
      "/Users/zwa216/anaconda/lib/python2.7/site-packages/ipykernel/__main__.py:44: FutureWarning: sort(columns=....) is deprecated, use sort_values(by=.....)\n"
     ]
    },
    {
     "data": {
      "image/png": "[encoded data removed]",
      "text/plain": [
       "<matplotlib.figure.Figure at 0x11a947f50>"
      ]
     },
     "metadata": {},
     "output_type": "display_data"
    }
   ],
   "source": [
    "preds={} \n",
    "preds[\"pred_y_train \"] = np.array(zip(pred_y_train, y_train))\n",
    "preds[\"pred_y_test \"] = np.array(zip(pred_y_test, y_test))\n",
    "somers_plots(preds, bins=20)"
   ]
  },
  {
   "cell_type": "code",
   "execution_count": 134,
   "metadata": {
    "collapsed": true
   },
   "outputs": [],
   "source": [
    "#Do not use Lasso for binary predictions \n",
    "from sklearn.linear_model import LassoCV\n",
    "clf = LassoCV(cv=20).fit(X_train, y_train)\n",
    "\n",
    "pred_y_lasso_train = clf.predict(X_train)\n",
    "pred_y_lasso_test = clf.predict(X_test)"
   ]
  },
  {
   "cell_type": "code",
   "execution_count": 157,
   "metadata": {
    "collapsed": false
   },
   "outputs": [
    {
     "data": {
      "text/plain": [
       "<bound method LassoCV.score of LassoCV(alphas=None, copy_X=True, cv=20, eps=0.001, fit_intercept=True,\n",
       "    max_iter=1000, n_alphas=100, n_jobs=1, normalize=False, positive=False,\n",
       "    precompute='auto', random_state=None, selection='cyclic', tol=0.0001,\n",
       "    verbose=False)>"
      ]
     },
     "execution_count": 157,
     "metadata": {},
     "output_type": "execute_result"
    }
   ],
   "source": [
    "#min(pred_y_lasso_test)\n",
    "#clf.coef_"
   ]
  },
  {
   "cell_type": "code",
   "execution_count": 135,
   "metadata": {
    "collapsed": false
   },
   "outputs": [
    {
     "name": "stdout",
     "output_type": "stream",
     "text": [
      "0.00238095238095\n",
      "0.00075178549054\n",
      "0.000626487908783\n",
      "0.000877083072297\n",
      "0.00137827339932\n",
      "0.00350833228919\n",
      "0.00250595163513\n",
      "0.000877083072297\n",
      "0.00213005888986\n",
      "0.00150357098108\n",
      "0.0093984962406\n",
      "0.00864553314121\n",
      "0.0165392807919\n",
      "0.0315749906027\n",
      "0.04636010525\n",
      "0.0717955143466\n",
      "0.0902142588648\n",
      "0.144217516602\n",
      "0.258113018419\n",
      "0.554441799273\n",
      "0.00401002506266\n",
      "0.0\n",
      "0.0\n",
      "0.0\n",
      "0.000501253132832\n",
      "0.00401002506266\n",
      "0.00250626566416\n",
      "0.00100200400802\n",
      "0.0015037593985\n",
      "0.00250626566416\n",
      "0.00802005012531\n",
      "0.00901803607214\n",
      "0.0110275689223\n",
      "0.0290726817043\n",
      "0.0521303258145\n",
      "0.0751503006012\n",
      "0.0867167919799\n",
      "0.132832080201\n",
      "0.251629072682\n",
      "0.542585170341\n"
     ]
    },
    {
     "name": "stderr",
     "output_type": "stream",
     "text": [
      "/Users/zwa216/anaconda/lib/python2.7/site-packages/ipykernel/__main__.py:44: FutureWarning: sort(columns=....) is deprecated, use sort_values(by=.....)\n"
     ]
    },
    {
     "data": {
      "image/png": "[encoded data removed]",
      "text/plain": [
       "<matplotlib.figure.Figure at 0x25bbf9410>"
      ]
     },
     "metadata": {},
     "output_type": "display_data"
    }
   ],
   "source": [
    "preds_lasso={} \n",
    "preds_lasso[\"pred_y_train \"] = np.array(zip(pred_y_lasso_train, y_train))\n",
    "preds_lasso[\"pred_y_test \"] = np.array(zip(pred_y_lasso_test, y_test))\n",
    "somers_plots(preds_lasso, bins=20)"
   ]
  },
  {
   "cell_type": "code",
   "execution_count": 147,
   "metadata": {
    "collapsed": false
   },
   "outputs": [],
   "source": [
    "#Run XGB on test\n",
    "pred_y_test2 = XGB_model.predict_proba(X_test2)[:,1]\n",
    "\n",
    "pred_y_test_class = []\n",
    "for prob in pred_y_test2:\n",
    "    pred_y_test_class.append(round(prob))"
   ]
  },
  {
   "cell_type": "code",
   "execution_count": 161,
   "metadata": {
    "collapsed": false
   },
   "outputs": [
    {
     "name": "stdout",
     "output_type": "stream",
     "text": [
      "XGB Model Stats\n",
      "precision: [ 0.95924642  0.71238518]\n",
      "recall: [ 0.99029666  0.36356288]\n",
      "fscore: [ 0.97452427  0.48142995]\n",
      "support: [93576  6186]\n",
      "Accuracy:0.951434413905\n"
     ]
    }
   ],
   "source": [
    "#getModelPerformanceStat(y_test2, pred_y_test_class, XGB_model, X_test2)\n",
    "logisticReg_acu = accuracy_score(y_test2, pred_y_test_class)\n",
    "precision_logReg, recall_logReg, fscore_logReg, support_logReg = score(y_test2, pred_y_test_class)\n",
    "\n",
    "print('XGB Model Stats')\n",
    "print('precision: {}'.format(precision_logReg))\n",
    "print('recall: {}'.format(recall_logReg))\n",
    "print('fscore: {}'.format(fscore_logReg))\n",
    "print('support: {}'.format(support_logReg))\n",
    "print('Accuracy:{}'.format(logisticReg_acu))"
   ]
  },
  {
   "cell_type": "code",
   "execution_count": null,
   "metadata": {
    "collapsed": true
   },
   "outputs": [],
   "source": []
  },
  {
   "cell_type": "code",
   "execution_count": 142,
   "metadata": {
    "collapsed": false
   },
   "outputs": [
    {
     "name": "stdout",
     "output_type": "stream",
     "text": [
      "0.0\n",
      "0.0\n",
      "0.0\n",
      "0.0\n",
      "0.0\n",
      "0.000200481154771\n",
      "0.00120288692863\n",
      "0.00160384923817\n",
      "0.00380914194066\n",
      "0.00420926037282\n",
      "0.00821972734563\n",
      "0.00721732157177\n",
      "0.0158380112269\n",
      "0.0206495589415\n",
      "0.0290697674419\n",
      "0.0513231756215\n",
      "0.079791499599\n",
      "0.133119486768\n",
      "0.267842822775\n",
      "0.615955101223\n"
     ]
    },
    {
     "name": "stderr",
     "output_type": "stream",
     "text": [
      "/Users/zwa216/anaconda/lib/python2.7/site-packages/ipykernel/__main__.py:44: FutureWarning: sort(columns=....) is deprecated, use sort_values(by=.....)\n"
     ]
    },
    {
     "data": {
      "image/png": "[encoded data removed]",
      "text/plain": [
       "<matplotlib.figure.Figure at 0x1180f9f50>"
      ]
     },
     "metadata": {},
     "output_type": "display_data"
    }
   ],
   "source": [
    "preds2={} \n",
    "preds2[\"pred_y_test2 \"] = np.array(zip(pred_y_test2, y_test2))\n",
    "somers_plots(preds2, bins=20)"
   ]
  },
  {
   "cell_type": "code",
   "execution_count": null,
   "metadata": {
    "collapsed": true
   },
   "outputs": [],
   "source": []
  }
 ],
 "metadata": {
  "kernelspec": {
   "display_name": "Python 2",
   "language": "python",
   "name": "python2"
  },
  "language_info": {
   "codemirror_mode": {
    "name": "ipython",
    "version": 2
   },
   "file_extension": ".py",
   "mimetype": "text/x-python",
   "name": "python",
   "nbconvert_exporter": "python",
   "pygments_lexer": "ipython2",
   "version": "2.7.11"
  }
 },
 "nbformat": 4,
 "nbformat_minor": 0
}
